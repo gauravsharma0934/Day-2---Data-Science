{
 "cells": [
  {
   "cell_type": "code",
   "execution_count": 1,
   "id": "16808542-fdef-44e5-9cf8-e0328bcd2f9d",
   "metadata": {},
   "outputs": [],
   "source": [
    "a = 10"
   ]
  },
  {
   "cell_type": "code",
   "execution_count": 2,
   "id": "1385d634-810d-4e9d-891c-3338703c5e4b",
   "metadata": {},
   "outputs": [],
   "source": [
    "b = 20 "
   ]
  },
  {
   "cell_type": "code",
   "execution_count": 3,
   "id": "bcbec9b0-ea09-49ef-91a1-bfd6e977d363",
   "metadata": {},
   "outputs": [
    {
     "data": {
      "text/plain": [
       "200"
      ]
     },
     "execution_count": 3,
     "metadata": {},
     "output_type": "execute_result"
    }
   ],
   "source": [
    "a * b"
   ]
  },
  {
   "cell_type": "code",
   "execution_count": null,
   "id": "93206791-7d23-4c87-94cc-efc24e4d3806",
   "metadata": {},
   "outputs": [],
   "source": []
  },
  {
   "cell_type": "code",
   "execution_count": 1,
   "id": "af0c818a-7e44-44f2-9c85-63307325a57c",
   "metadata": {},
   "outputs": [
    {
     "ename": "NameError",
     "evalue": "name 'a1' is not defined",
     "output_type": "error",
     "traceback": [
      "\u001b[0;31m---------------------------------------------------------------------------\u001b[0m",
      "\u001b[0;31mNameError\u001b[0m                                 Traceback (most recent call last)",
      "Cell \u001b[0;32mIn[1], line 1\u001b[0m\n\u001b[0;32m----> 1\u001b[0m \u001b[38;5;28mint\u001b[39m (\u001b[43ma1\u001b[49m)\n",
      "\u001b[0;31mNameError\u001b[0m: name 'a1' is not defined"
     ]
    }
   ],
   "source": [
    "int (a1)"
   ]
  },
  {
   "cell_type": "code",
   "execution_count": 4,
   "id": "e44d12d0-4bdf-4829-892a-9b1c1e48cae3",
   "metadata": {},
   "outputs": [
    {
     "data": {
      "text/plain": [
       "1234"
      ]
     },
     "execution_count": 4,
     "metadata": {},
     "output_type": "execute_result"
    }
   ],
   "source": [
    "int (\"1234\")"
   ]
  },
  {
   "cell_type": "code",
   "execution_count": 5,
   "id": "6d9d3ec9-2d16-4d33-befa-a2c3ca1a78eb",
   "metadata": {},
   "outputs": [
    {
     "name": "stdout",
     "output_type": "stream",
     "text": [
      "Love is Hate\n"
     ]
    }
   ],
   "source": [
    "print (\"Love is Hate\")"
   ]
  },
  {
   "cell_type": "code",
   "execution_count": 6,
   "id": "2f2ae30d-1486-48f4-a134-6150857d1dbb",
   "metadata": {},
   "outputs": [
    {
     "name": "stdout",
     "output_type": "stream",
     "text": [
      "my name is gaurav sharma\n"
     ]
    }
   ],
   "source": [
    "print (\"my name is gaurav sharma\")"
   ]
  },
  {
   "cell_type": "code",
   "execution_count": 7,
   "id": "63b008c4-4dfb-4eb9-a2d9-8240f27b722f",
   "metadata": {},
   "outputs": [
    {
     "ename": "NameError",
     "evalue": "name 'gaurav' is not defined",
     "output_type": "error",
     "traceback": [
      "\u001b[0;31m---------------------------------------------------------------------------\u001b[0m",
      "\u001b[0;31mNameError\u001b[0m                                 Traceback (most recent call last)",
      "Cell \u001b[0;32mIn[7], line 1\u001b[0m\n\u001b[0;32m----> 1\u001b[0m \u001b[38;5;28mprint\u001b[39m (\u001b[43mgaurav\u001b[49m)\n",
      "\u001b[0;31mNameError\u001b[0m: name 'gaurav' is not defined"
     ]
    }
   ],
   "source": [
    "print (gaurav)"
   ]
  },
  {
   "cell_type": "code",
   "execution_count": 8,
   "id": "5cccef7c-55da-4b77-9266-fa1c6844b9e7",
   "metadata": {},
   "outputs": [
    {
     "name": "stdout",
     "output_type": "stream",
     "text": [
      "123\n"
     ]
    }
   ],
   "source": [
    "print (\"123\")"
   ]
  },
  {
   "cell_type": "code",
   "execution_count": 9,
   "id": "76572bb1-e7aa-4eb7-971d-52a629e62cde",
   "metadata": {},
   "outputs": [
    {
     "name": "stdout",
     "output_type": "stream",
     "text": [
      "abcd\n"
     ]
    }
   ],
   "source": [
    "print ('abcd')"
   ]
  },
  {
   "cell_type": "code",
   "execution_count": 14,
   "id": "a09d2a34-f698-48bc-b7ba-1533b11b4411",
   "metadata": {},
   "outputs": [],
   "source": [
    "age = 31"
   ]
  },
  {
   "cell_type": "code",
   "execution_count": 19,
   "id": "6f9179ef-52d3-4961-961e-40810ffc8dbc",
   "metadata": {},
   "outputs": [
    {
     "name": "stdout",
     "output_type": "stream",
     "text": [
      "My age is : 31\n"
     ]
    }
   ],
   "source": [
    "## f string\n",
    "print (f\"My age is : {age}\")"
   ]
  },
  {
   "cell_type": "code",
   "execution_count": 25,
   "id": "807ae873-9ff4-4c6f-9ad4-0dc8c731656a",
   "metadata": {},
   "outputs": [
    {
     "name": "stdout",
     "output_type": "stream",
     "text": [
      "My name is Gaurav and age is 31\n"
     ]
    }
   ],
   "source": [
    "## format ()\n",
    "name = \"Gaurav\"\n",
    "age = 31\n",
    "print (\"My name is {} and age is {}\".format(name,age))"
   ]
  },
  {
   "cell_type": "code",
   "execution_count": 26,
   "id": "d3bbcb61-3b4c-4e5e-b777-20b3cceee440",
   "metadata": {},
   "outputs": [
    {
     "name": "stdout",
     "output_type": "stream",
     "text": [
      "My name is Gaurav and age is 31\n"
     ]
    }
   ],
   "source": [
    "## place holder\n",
    "print (\"My name is {firstname} and age is {firstage}\".format(firstname = name,firstage = age))"
   ]
  },
  {
   "cell_type": "code",
   "execution_count": 27,
   "id": "ed75b1bd-92e7-48d7-8d2f-aff9cf583e05",
   "metadata": {},
   "outputs": [
    {
     "name": "stdout",
     "output_type": "stream",
     "text": [
      "My name is Gaurav and age is 31\n"
     ]
    }
   ],
   "source": [
    "print (\"My name is {firstname} and age is {firstage}\".format(firstage = age,firstname = name))"
   ]
  },
  {
   "cell_type": "code",
   "execution_count": 28,
   "id": "aefbee9a-f843-4afc-90b4-94dda9ca00e4",
   "metadata": {},
   "outputs": [],
   "source": [
    "name = \"Gaurav Sharma\""
   ]
  },
  {
   "cell_type": "code",
   "execution_count": 43,
   "id": "1b8387a8-22cc-4c74-b4a1-9db91d988a53",
   "metadata": {},
   "outputs": [],
   "source": [
    "age = 31"
   ]
  },
  {
   "cell_type": "code",
   "execution_count": 33,
   "id": "9d20a6fe-a03c-4997-a00e-00da60b03f89",
   "metadata": {},
   "outputs": [],
   "source": [
    "degree = \"B.Tech\""
   ]
  },
  {
   "cell_type": "code",
   "execution_count": 31,
   "id": "bb2340d2-b459-4231-8c60-6fb480cdb343",
   "metadata": {},
   "outputs": [
    {
     "data": {
      "text/plain": [
       "'My age is 32 and I have completed : my degree of B.Tech with the name of Gaurav Sharma'"
      ]
     },
     "execution_count": 31,
     "metadata": {},
     "output_type": "execute_result"
    }
   ],
   "source": [
    "\"My age is 32 and I have completed : my degree of B.Tech with the name of Gaurav Sharma\""
   ]
  },
  {
   "cell_type": "code",
   "execution_count": 49,
   "id": "c4af2f1a-7db2-4e02-acdb-5c635207ed49",
   "metadata": {},
   "outputs": [
    {
     "name": "stdout",
     "output_type": "stream",
     "text": [
      "My age is 31 and I have completed : my degree of B.Tech with the name of Gaurav Sharma\n"
     ]
    }
   ],
   "source": [
    "print (\"My age is {} and I have completed : my degree of {} with the name of {}\".format(age ,degree ,name))"
   ]
  },
  {
   "cell_type": "code",
   "execution_count": 50,
   "id": "b53e67fd-07fe-4da3-8b61-6ef61c1aa49d",
   "metadata": {},
   "outputs": [],
   "source": [
    "## Control Flow\n",
    "### Decision making statements"
   ]
  },
  {
   "cell_type": "code",
   "execution_count": 52,
   "id": "78c6be6d-d5f2-4802-ae2a-8acfe7832b44",
   "metadata": {},
   "outputs": [],
   "source": [
    "## If statements ==, >= , <="
   ]
  },
  {
   "cell_type": "code",
   "execution_count": 59,
   "id": "f931ca21-af4f-46ed-a419-29a118ff6ae9",
   "metadata": {},
   "outputs": [
    {
     "name": "stdout",
     "output_type": "stream",
     "text": [
      "Not eligible to vote\n"
     ]
    }
   ],
   "source": [
    "age = 17\n",
    "if age < 18:\n",
    "    print ('Not eligible to vote')"
   ]
  },
  {
   "cell_type": "code",
   "execution_count": 64,
   "id": "cd57c065-f471-4161-8663-66475603ce7a",
   "metadata": {},
   "outputs": [
    {
     "data": {
      "text/plain": [
       "True"
      ]
     },
     "execution_count": 64,
     "metadata": {},
     "output_type": "execute_result"
    }
   ],
   "source": [
    "19>18"
   ]
  },
  {
   "cell_type": "code",
   "execution_count": 63,
   "id": "51be1aca-3efd-4994-b806-ab4c852709cc",
   "metadata": {},
   "outputs": [
    {
     "name": "stdin",
     "output_type": "stream",
     "text": [
      " Gaurav Sharma\n"
     ]
    },
    {
     "data": {
      "text/plain": [
       "'Gaurav Sharma'"
      ]
     },
     "execution_count": 63,
     "metadata": {},
     "output_type": "execute_result"
    }
   ],
   "source": [
    "input ()"
   ]
  },
  {
   "cell_type": "code",
   "execution_count": 66,
   "id": "db928631-55d2-4c89-967f-871baf6f7f8a",
   "metadata": {},
   "outputs": [
    {
     "name": "stdin",
     "output_type": "stream",
     "text": [
      "Enter the name Gaurav Sharma\n"
     ]
    }
   ],
   "source": [
    "name = input (\"Enter the name\")"
   ]
  },
  {
   "cell_type": "code",
   "execution_count": 67,
   "id": "f01de568-623a-4917-8618-7a635b1357e0",
   "metadata": {},
   "outputs": [
    {
     "data": {
      "text/plain": [
       "'Gaurav Sharma'"
      ]
     },
     "execution_count": 67,
     "metadata": {},
     "output_type": "execute_result"
    }
   ],
   "source": [
    "name"
   ]
  },
  {
   "cell_type": "code",
   "execution_count": 1,
   "id": "2cbdf10e-fe6b-4feb-b141-4b8c23539f36",
   "metadata": {},
   "outputs": [
    {
     "data": {
      "text/plain": [
       "False"
      ]
     },
     "execution_count": 1,
     "metadata": {},
     "output_type": "execute_result"
    }
   ],
   "source": [
    "19<18"
   ]
  },
  {
   "cell_type": "code",
   "execution_count": 3,
   "id": "d21962be-90a2-49a2-932f-2d3368b5a887",
   "metadata": {},
   "outputs": [
    {
     "data": {
      "text/plain": [
       "True"
      ]
     },
     "execution_count": 3,
     "metadata": {},
     "output_type": "execute_result"
    }
   ],
   "source": [
    "18==18"
   ]
  },
  {
   "cell_type": "code",
   "execution_count": 4,
   "id": "bc58e698-51cc-439f-92b8-b5b0ec6dee9d",
   "metadata": {},
   "outputs": [],
   "source": [
    "## Task\n",
    "## Take a input of age\n",
    "## check whether age >=18 and age <= 45\n",
    "## display a message you are a young blood"
   ]
  },
  {
   "cell_type": "code",
   "execution_count": 13,
   "id": "03aaae23-d48b-48c0-9e4e-4d85dc7c46d2",
   "metadata": {},
   "outputs": [
    {
     "name": "stdin",
     "output_type": "stream",
     "text": [
      "enter your age 18\n"
     ]
    },
    {
     "name": "stdout",
     "output_type": "stream",
     "text": [
      "Young blood\n"
     ]
    }
   ],
   "source": [
    "age = int(input(\"enter your age\"))\n",
    "if age >= 18 and age <= 45:\n",
    "    print (\"Young blood\")"
   ]
  },
  {
   "cell_type": "code",
   "execution_count": 14,
   "id": "1a3b4ab1-9381-4cc7-a2cb-5d82a84b25da",
   "metadata": {},
   "outputs": [],
   "source": [
    "## if else statement\n"
   ]
  },
  {
   "cell_type": "code",
   "execution_count": 17,
   "id": "4fba5f99-5c26-4da7-a891-4176a29ffb77",
   "metadata": {},
   "outputs": [
    {
     "name": "stdin",
     "output_type": "stream",
     "text": [
      "enter your age 15\n"
     ]
    },
    {
     "name": "stdout",
     "output_type": "stream",
     "text": [
      "you're old\n"
     ]
    }
   ],
   "source": [
    "age = int(input(\"enter your age\"))\n",
    "if age >= 18 and age <= 45:\n",
    "    print (\"Young blood\")\n",
    "else:\n",
    "    print (\"you're old\")"
   ]
  },
  {
   "cell_type": "code",
   "execution_count": 18,
   "id": "a90da9e4-bc85-4a64-8453-3490d24b0ba9",
   "metadata": {},
   "outputs": [],
   "source": [
    "## mall \n",
    "## product > 1000rs 20% off\n",
    "## product <= 1000rs 30% off\n",
    "## discount of 10% off\n",
    "## print the product price"
   ]
  },
  {
   "cell_type": "code",
   "execution_count": 2,
   "id": "ae23d119-1800-4c48-b20f-9028f69905d3",
   "metadata": {},
   "outputs": [
    {
     "name": "stdin",
     "output_type": "stream",
     "text": [
      "price of the product 5000\n"
     ]
    },
    {
     "name": "stdout",
     "output_type": "stream",
     "text": [
      "The price of the product is 4000.0\n"
     ]
    }
   ],
   "source": [
    "product = int(input(\"price of the product\"))\n",
    "if product > 1000:\n",
    "    print (\"The price of the product is {}\".format(product*0.8))\n",
    "else:\n",
    "    print (\"The price of the product is {}\".format(product*0.7))"
   ]
  },
  {
   "cell_type": "code",
   "execution_count": 29,
   "id": "010d6f93-3eee-46e1-a5a5-400f15ef6d20",
   "metadata": {},
   "outputs": [],
   "source": [
    "## elif\n"
   ]
  },
  {
   "cell_type": "code",
   "execution_count": 3,
   "id": "d05e46ca-d27f-41c8-b33f-36e02eb27d6d",
   "metadata": {},
   "outputs": [
    {
     "name": "stdout",
     "output_type": "stream",
     "text": [
      "Hello\n"
     ]
    }
   ],
   "source": [
    "print (\"Hello\")"
   ]
  },
  {
   "cell_type": "code",
   "execution_count": 8,
   "id": "985cf60e-2388-4c5c-a660-5fe6573e18d9",
   "metadata": {},
   "outputs": [
    {
     "name": "stdin",
     "output_type": "stream",
     "text": [
      "price of the product 2999\n"
     ]
    },
    {
     "name": "stdout",
     "output_type": "stream",
     "text": [
      "you get an additional gift\n",
      "The price of the product is 2399.2000000000003\n"
     ]
    }
   ],
   "source": [
    "product = int(input(\"price of the product\"))\n",
    "if product > 3000:\n",
    "    print (\"The price of the product is {}\".format(product*0.7))\n",
    "elif product >= 2000 and product <= 3000:\n",
    "    if product ==2999:\n",
    "        print (\"you get an additional gift\")\n",
    "    print (\"The price of the product is {}\".format(product*0.8))\n",
    "else:\n",
    "    print (\"The price of the product is {}\".format(product*0.9))\n",
    "    "
   ]
  },
  {
   "cell_type": "code",
   "execution_count": 10,
   "id": "c16dc832-4b43-4db4-a09d-5949386e917f",
   "metadata": {},
   "outputs": [
    {
     "name": "stdin",
     "output_type": "stream",
     "text": [
      "Enter the number 1000\n"
     ]
    },
    {
     "name": "stdout",
     "output_type": "stream",
     "text": [
      "more than 999\n"
     ]
    }
   ],
   "source": [
    "## Single Statement \n",
    "val = int (input('Enter the number'))\n",
    "if (val<=999):print (\"value is less than equal to 999\")\n",
    "else:\n",
    "    print (\"more than 999\")"
   ]
  },
  {
   "cell_type": "code",
   "execution_count": null,
   "id": "758916bb-cd48-4b08-bdc3-d2ee5e4566c4",
   "metadata": {},
   "outputs": [],
   "source": []
  }
 ],
 "metadata": {
  "kernelspec": {
   "display_name": "Python 3 (ipykernel)",
   "language": "python",
   "name": "python3"
  },
  "language_info": {
   "codemirror_mode": {
    "name": "ipython",
    "version": 3
   },
   "file_extension": ".py",
   "mimetype": "text/x-python",
   "name": "python",
   "nbconvert_exporter": "python",
   "pygments_lexer": "ipython3",
   "version": "3.10.8"
  }
 },
 "nbformat": 4,
 "nbformat_minor": 5
}
